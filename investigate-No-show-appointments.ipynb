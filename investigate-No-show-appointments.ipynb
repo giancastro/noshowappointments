{
 "cells": [
  {
   "cell_type": "markdown",
   "metadata": {},
   "source": [
    "\n",
    "# Project: Investigate a Dataset - No-show appointments\n",
    "\n",
    "## Table of Contents\n",
    "<ul>\n",
    "<li><a href=\"#intro\">Introduction</a></li>\n",
    "<li><a href=\"#wrangling\">Data Wrangling</a></li>\n",
    "<li><a href=\"#eda\">Exploratory Data Analysis</a></li>\n",
    "<li><a href=\"#conclusions\">Conclusions</a></li>\n",
    "</ul>"
   ]
  },
  {
   "cell_type": "markdown",
   "metadata": {},
   "source": [
    "<a id='intro'></a>\n",
    "## Introduction\n",
    "\n",
    "This dataset collects information from 100k medical appointments in Brazil and is focused on the question of whether or not patients show up for their appointment. A number of characteristics about the patient are included in each row.\n",
    "\n",
    "Dataframe URL: https://d17h27t6h515a5.cloudfront.net/topher/2017/October/59dd2e9a_noshowappointments-kagglev2-may-2016/noshowappointments-kagglev2-may-2016.csv\n",
    "\n",
    "<b>Data Dictionary</b>\n",
    "\n",
    "-PatientId - Identification of a patient.<br>\n",
    "-AppointmentID - Identification of each appointment.<br> \n",
    "-Gender = Male or Female . Female is the greater proportion, woman takes way more care of they health in comparison to man.<br> \n",
    "-AppointmentDay = The day of the actuall appointment, when they have to visit the doctor.<br> \n",
    "-ScheduledDay = The day someone called or registered the appointment, this is before appointment of course.<br> \n",
    "-Age = How old is the patient.<br> \n",
    "-Neighbourhood = Where the appointment takes place.<br> \n",
    "-Scholarship = Ture of False . Observation, this is a broad topic, consider reading this article https://en.wikipedia.org/wiki/Bolsa_Fam%C3%ADlia.<br> \n",
    "-Hipertension = True or False.<br> \n",
    "-Diabetes = True or False.<br> \n",
    "-Alcoholism = True or False.<br> \n",
    "-Handcap = True or False.<br> \n",
    "-SMS_received = 1 or more messages sent to the patient.<br> \n",
    "-No-show = True or False.<br>"
   ]
  },
  {
   "cell_type": "markdown",
   "metadata": {},
   "source": [
    "<a id='wrangling'></a>\n",
    "## Data Wrangling\n"
   ]
  },
  {
   "cell_type": "code",
   "execution_count": 200,
   "metadata": {
    "ExecuteTime": {
     "end_time": "2018-10-20T23:52:22.568293Z",
     "start_time": "2018-10-20T23:52:22.545270Z"
    }
   },
   "outputs": [],
   "source": [
    "#declare libraries\n",
    "import pandas as pd\n",
    "import numpy as np\n",
    "import matplotlib.pyplot as plt\n",
    "import seaborn as sns\n",
    "import io as io\n",
    "import requests\n",
    "import statsmodels.api as sm\n",
    "%matplotlib inline"
   ]
  },
  {
   "cell_type": "code",
   "execution_count": 201,
   "metadata": {
    "ExecuteTime": {
     "end_time": "2018-10-20T23:52:24.143025Z",
     "start_time": "2018-10-20T23:52:22.571422Z"
    }
   },
   "outputs": [],
   "source": [
    "#read data from url\n",
    "url=\"https://d17h27t6h515a5.cloudfront.net/topher/2017/October/59dd2e9a_noshowappointments-kagglev2-may-2016/noshowappointments-kagglev2-may-2016.csv\"\n",
    "rq=requests.get(url).content\n",
    "df=pd.read_csv(io.StringIO(rq.decode('utf-8')))"
   ]
  },
  {
   "cell_type": "code",
   "execution_count": 202,
   "metadata": {
    "ExecuteTime": {
     "end_time": "2018-10-20T23:52:24.211548Z",
     "start_time": "2018-10-20T23:52:24.145863Z"
    }
   },
   "outputs": [
    {
     "name": "stdout",
     "output_type": "stream",
     "text": [
      "<class 'pandas.core.frame.DataFrame'>\n",
      "RangeIndex: 110527 entries, 0 to 110526\n",
      "Data columns (total 14 columns):\n",
      "PatientId         110527 non-null float64\n",
      "AppointmentID     110527 non-null int64\n",
      "Gender            110527 non-null object\n",
      "ScheduledDay      110527 non-null object\n",
      "AppointmentDay    110527 non-null object\n",
      "Age               110527 non-null int64\n",
      "Neighbourhood     110527 non-null object\n",
      "Scholarship       110527 non-null int64\n",
      "Hipertension      110527 non-null int64\n",
      "Diabetes          110527 non-null int64\n",
      "Alcoholism        110527 non-null int64\n",
      "Handcap           110527 non-null int64\n",
      "SMS_received      110527 non-null int64\n",
      "No-show           110527 non-null object\n",
      "dtypes: float64(1), int64(8), object(5)\n",
      "memory usage: 11.8+ MB\n"
     ]
    }
   ],
   "source": [
    "#data information\n",
    "df.info()"
   ]
  },
  {
   "cell_type": "code",
   "execution_count": 203,
   "metadata": {
    "ExecuteTime": {
     "end_time": "2018-10-20T23:52:24.232898Z",
     "start_time": "2018-10-20T23:52:24.214376Z"
    }
   },
   "outputs": [
    {
     "data": {
      "text/html": [
       "<div>\n",
       "<style scoped>\n",
       "    .dataframe tbody tr th:only-of-type {\n",
       "        vertical-align: middle;\n",
       "    }\n",
       "\n",
       "    .dataframe tbody tr th {\n",
       "        vertical-align: top;\n",
       "    }\n",
       "\n",
       "    .dataframe thead th {\n",
       "        text-align: right;\n",
       "    }\n",
       "</style>\n",
       "<table border=\"1\" class=\"dataframe\">\n",
       "  <thead>\n",
       "    <tr style=\"text-align: right;\">\n",
       "      <th></th>\n",
       "      <th>PatientId</th>\n",
       "      <th>AppointmentID</th>\n",
       "      <th>Gender</th>\n",
       "      <th>ScheduledDay</th>\n",
       "      <th>AppointmentDay</th>\n",
       "      <th>Age</th>\n",
       "      <th>Neighbourhood</th>\n",
       "      <th>Scholarship</th>\n",
       "      <th>Hipertension</th>\n",
       "      <th>Diabetes</th>\n",
       "      <th>Alcoholism</th>\n",
       "      <th>Handcap</th>\n",
       "      <th>SMS_received</th>\n",
       "      <th>No-show</th>\n",
       "    </tr>\n",
       "  </thead>\n",
       "  <tbody>\n",
       "    <tr>\n",
       "      <th>0</th>\n",
       "      <td>2.987250e+13</td>\n",
       "      <td>5642903</td>\n",
       "      <td>F</td>\n",
       "      <td>2016-04-29T18:38:08Z</td>\n",
       "      <td>2016-04-29T00:00:00Z</td>\n",
       "      <td>62</td>\n",
       "      <td>JARDIM DA PENHA</td>\n",
       "      <td>0</td>\n",
       "      <td>1</td>\n",
       "      <td>0</td>\n",
       "      <td>0</td>\n",
       "      <td>0</td>\n",
       "      <td>0</td>\n",
       "      <td>No</td>\n",
       "    </tr>\n",
       "    <tr>\n",
       "      <th>1</th>\n",
       "      <td>5.589978e+14</td>\n",
       "      <td>5642503</td>\n",
       "      <td>M</td>\n",
       "      <td>2016-04-29T16:08:27Z</td>\n",
       "      <td>2016-04-29T00:00:00Z</td>\n",
       "      <td>56</td>\n",
       "      <td>JARDIM DA PENHA</td>\n",
       "      <td>0</td>\n",
       "      <td>0</td>\n",
       "      <td>0</td>\n",
       "      <td>0</td>\n",
       "      <td>0</td>\n",
       "      <td>0</td>\n",
       "      <td>No</td>\n",
       "    </tr>\n",
       "    <tr>\n",
       "      <th>2</th>\n",
       "      <td>4.262962e+12</td>\n",
       "      <td>5642549</td>\n",
       "      <td>F</td>\n",
       "      <td>2016-04-29T16:19:04Z</td>\n",
       "      <td>2016-04-29T00:00:00Z</td>\n",
       "      <td>62</td>\n",
       "      <td>MATA DA PRAIA</td>\n",
       "      <td>0</td>\n",
       "      <td>0</td>\n",
       "      <td>0</td>\n",
       "      <td>0</td>\n",
       "      <td>0</td>\n",
       "      <td>0</td>\n",
       "      <td>No</td>\n",
       "    </tr>\n",
       "    <tr>\n",
       "      <th>3</th>\n",
       "      <td>8.679512e+11</td>\n",
       "      <td>5642828</td>\n",
       "      <td>F</td>\n",
       "      <td>2016-04-29T17:29:31Z</td>\n",
       "      <td>2016-04-29T00:00:00Z</td>\n",
       "      <td>8</td>\n",
       "      <td>PONTAL DE CAMBURI</td>\n",
       "      <td>0</td>\n",
       "      <td>0</td>\n",
       "      <td>0</td>\n",
       "      <td>0</td>\n",
       "      <td>0</td>\n",
       "      <td>0</td>\n",
       "      <td>No</td>\n",
       "    </tr>\n",
       "    <tr>\n",
       "      <th>4</th>\n",
       "      <td>8.841186e+12</td>\n",
       "      <td>5642494</td>\n",
       "      <td>F</td>\n",
       "      <td>2016-04-29T16:07:23Z</td>\n",
       "      <td>2016-04-29T00:00:00Z</td>\n",
       "      <td>56</td>\n",
       "      <td>JARDIM DA PENHA</td>\n",
       "      <td>0</td>\n",
       "      <td>1</td>\n",
       "      <td>1</td>\n",
       "      <td>0</td>\n",
       "      <td>0</td>\n",
       "      <td>0</td>\n",
       "      <td>No</td>\n",
       "    </tr>\n",
       "  </tbody>\n",
       "</table>\n",
       "</div>"
      ],
      "text/plain": [
       "      PatientId  AppointmentID Gender          ScheduledDay  \\\n",
       "0  2.987250e+13        5642903      F  2016-04-29T18:38:08Z   \n",
       "1  5.589978e+14        5642503      M  2016-04-29T16:08:27Z   \n",
       "2  4.262962e+12        5642549      F  2016-04-29T16:19:04Z   \n",
       "3  8.679512e+11        5642828      F  2016-04-29T17:29:31Z   \n",
       "4  8.841186e+12        5642494      F  2016-04-29T16:07:23Z   \n",
       "\n",
       "         AppointmentDay  Age      Neighbourhood  Scholarship  Hipertension  \\\n",
       "0  2016-04-29T00:00:00Z   62    JARDIM DA PENHA            0             1   \n",
       "1  2016-04-29T00:00:00Z   56    JARDIM DA PENHA            0             0   \n",
       "2  2016-04-29T00:00:00Z   62      MATA DA PRAIA            0             0   \n",
       "3  2016-04-29T00:00:00Z    8  PONTAL DE CAMBURI            0             0   \n",
       "4  2016-04-29T00:00:00Z   56    JARDIM DA PENHA            0             1   \n",
       "\n",
       "   Diabetes  Alcoholism  Handcap  SMS_received No-show  \n",
       "0         0           0        0             0      No  \n",
       "1         0           0        0             0      No  \n",
       "2         0           0        0             0      No  \n",
       "3         0           0        0             0      No  \n",
       "4         1           0        0             0      No  "
      ]
     },
     "execution_count": 203,
     "metadata": {},
     "output_type": "execute_result"
    }
   ],
   "source": [
    "#first rows\n",
    "df.head()"
   ]
  },
  {
   "cell_type": "code",
   "execution_count": 204,
   "metadata": {
    "ExecuteTime": {
     "end_time": "2018-10-20T23:52:24.279315Z",
     "start_time": "2018-10-20T23:52:24.235929Z"
    }
   },
   "outputs": [
    {
     "name": "stdout",
     "output_type": "stream",
     "text": [
      "Gender:\n",
      "['F' 'M']\n",
      "Age:\n",
      "[ 62  56   8  76  23  39  21  19  30  29  22  28  54  15  50  40  46   4\n",
      "  13  65  45  51  32  12  61  38  79  18  63  64  85  59  55  71  49  78\n",
      "  31  58  27   6   2  11   7   0   3   1  69  68  60  67  36  10  35  20\n",
      "  26  34  33  16  42   5  47  17  41  44  37  24  66  77  81  70  53  75\n",
      "  73  52  74  43  89  57  14   9  48  83  72  25  80  87  88  84  82  90\n",
      "  94  86  91  98  92  96  93  95  97 102 115 100  99  -1]\n",
      "Neighbourhood:\n",
      "['JARDIM DA PENHA' 'MATA DA PRAIA' 'PONTAL DE CAMBURI' 'REPÚBLICA'\n",
      " 'GOIABEIRAS' 'ANDORINHAS' 'CONQUISTA' 'NOVA PALESTINA' 'DA PENHA'\n",
      " 'TABUAZEIRO' 'BENTO FERREIRA' 'SÃO PEDRO' 'SANTA MARTHA' 'SÃO CRISTÓVÃO'\n",
      " 'MARUÍPE' 'GRANDE VITÓRIA' 'SÃO BENEDITO' 'ILHA DAS CAIEIRAS'\n",
      " 'SANTO ANDRÉ' 'SOLON BORGES' 'BONFIM' 'JARDIM CAMBURI' 'MARIA ORTIZ'\n",
      " 'JABOUR' 'ANTÔNIO HONÓRIO' 'RESISTÊNCIA' 'ILHA DE SANTA MARIA'\n",
      " 'JUCUTUQUARA' 'MONTE BELO' 'MÁRIO CYPRESTE' 'SANTO ANTÔNIO' 'BELA VISTA'\n",
      " 'PRAIA DO SUÁ' 'SANTA HELENA' 'ITARARÉ' 'INHANGUETÁ' 'UNIVERSITÁRIO'\n",
      " 'SÃO JOSÉ' 'REDENÇÃO' 'SANTA CLARA' 'CENTRO' 'PARQUE MOSCOSO'\n",
      " 'DO MOSCOSO' 'SANTOS DUMONT' 'CARATOÍRA' 'ARIOVALDO FAVALESSA'\n",
      " 'ILHA DO FRADE' 'GURIGICA' 'JOANA D´ARC' 'CONSOLAÇÃO' 'PRAIA DO CANTO'\n",
      " 'BOA VISTA' 'MORADA DE CAMBURI' 'SANTA LUÍZA' 'SANTA LÚCIA'\n",
      " 'BARRO VERMELHO' 'ESTRELINHA' 'FORTE SÃO JOÃO' 'FONTE GRANDE'\n",
      " 'ENSEADA DO SUÁ' 'SANTOS REIS' 'PIEDADE' 'JESUS DE NAZARETH'\n",
      " 'SANTA TEREZA' 'CRUZAMENTO' 'ILHA DO PRÍNCIPE' 'ROMÃO' 'COMDUSA'\n",
      " 'SANTA CECÍLIA' 'VILA RUBIM' 'DE LOURDES' 'DO QUADRO' 'DO CABRAL' 'HORTO'\n",
      " 'SEGURANÇA DO LAR' 'ILHA DO BOI' 'FRADINHOS' 'NAZARETH' 'AEROPORTO'\n",
      " 'ILHAS OCEÂNICAS DE TRINDADE' 'PARQUE INDUSTRIAL']\n",
      "Scholarship:\n",
      "[0 1]\n",
      "Hipertension:\n",
      "[1 0]\n",
      "Diabetes:\n",
      "[0 1]\n",
      "Alcoholism:\n",
      "[0 1]\n",
      "Handcap:\n",
      "[0 1 2 3 4]\n",
      "SMS_received:\n",
      "[0 1]\n",
      "No-show:\n",
      "['No' 'Yes']\n"
     ]
    }
   ],
   "source": [
    "#overall unique possible columns\n",
    "for column in df.iloc[:,np.r_[2,5:14]].columns:\n",
    "    print(\"{}:\\n{}\".format(column,df[column].unique()))"
   ]
  },
  {
   "cell_type": "code",
   "execution_count": 205,
   "metadata": {
    "ExecuteTime": {
     "end_time": "2018-10-20T23:52:24.402682Z",
     "start_time": "2018-10-20T23:52:24.283114Z"
    }
   },
   "outputs": [
    {
     "data": {
      "text/html": [
       "<div>\n",
       "<style scoped>\n",
       "    .dataframe tbody tr th:only-of-type {\n",
       "        vertical-align: middle;\n",
       "    }\n",
       "\n",
       "    .dataframe tbody tr th {\n",
       "        vertical-align: top;\n",
       "    }\n",
       "\n",
       "    .dataframe thead th {\n",
       "        text-align: right;\n",
       "    }\n",
       "</style>\n",
       "<table border=\"1\" class=\"dataframe\">\n",
       "  <thead>\n",
       "    <tr style=\"text-align: right;\">\n",
       "      <th></th>\n",
       "      <th>PatientId</th>\n",
       "      <th>AppointmentID</th>\n",
       "      <th>Age</th>\n",
       "      <th>Scholarship</th>\n",
       "      <th>Hipertension</th>\n",
       "      <th>Diabetes</th>\n",
       "      <th>Alcoholism</th>\n",
       "      <th>Handcap</th>\n",
       "      <th>SMS_received</th>\n",
       "    </tr>\n",
       "  </thead>\n",
       "  <tbody>\n",
       "    <tr>\n",
       "      <th>count</th>\n",
       "      <td>1.105270e+05</td>\n",
       "      <td>1.105270e+05</td>\n",
       "      <td>110527.000000</td>\n",
       "      <td>110527.000000</td>\n",
       "      <td>110527.000000</td>\n",
       "      <td>110527.000000</td>\n",
       "      <td>110527.000000</td>\n",
       "      <td>110527.000000</td>\n",
       "      <td>110527.000000</td>\n",
       "    </tr>\n",
       "    <tr>\n",
       "      <th>mean</th>\n",
       "      <td>1.474963e+14</td>\n",
       "      <td>5.675305e+06</td>\n",
       "      <td>37.088874</td>\n",
       "      <td>0.098266</td>\n",
       "      <td>0.197246</td>\n",
       "      <td>0.071865</td>\n",
       "      <td>0.030400</td>\n",
       "      <td>0.022248</td>\n",
       "      <td>0.321026</td>\n",
       "    </tr>\n",
       "    <tr>\n",
       "      <th>std</th>\n",
       "      <td>2.560949e+14</td>\n",
       "      <td>7.129575e+04</td>\n",
       "      <td>23.110205</td>\n",
       "      <td>0.297675</td>\n",
       "      <td>0.397921</td>\n",
       "      <td>0.258265</td>\n",
       "      <td>0.171686</td>\n",
       "      <td>0.161543</td>\n",
       "      <td>0.466873</td>\n",
       "    </tr>\n",
       "    <tr>\n",
       "      <th>min</th>\n",
       "      <td>3.921784e+04</td>\n",
       "      <td>5.030230e+06</td>\n",
       "      <td>-1.000000</td>\n",
       "      <td>0.000000</td>\n",
       "      <td>0.000000</td>\n",
       "      <td>0.000000</td>\n",
       "      <td>0.000000</td>\n",
       "      <td>0.000000</td>\n",
       "      <td>0.000000</td>\n",
       "    </tr>\n",
       "    <tr>\n",
       "      <th>25%</th>\n",
       "      <td>4.172614e+12</td>\n",
       "      <td>5.640286e+06</td>\n",
       "      <td>18.000000</td>\n",
       "      <td>0.000000</td>\n",
       "      <td>0.000000</td>\n",
       "      <td>0.000000</td>\n",
       "      <td>0.000000</td>\n",
       "      <td>0.000000</td>\n",
       "      <td>0.000000</td>\n",
       "    </tr>\n",
       "    <tr>\n",
       "      <th>50%</th>\n",
       "      <td>3.173184e+13</td>\n",
       "      <td>5.680573e+06</td>\n",
       "      <td>37.000000</td>\n",
       "      <td>0.000000</td>\n",
       "      <td>0.000000</td>\n",
       "      <td>0.000000</td>\n",
       "      <td>0.000000</td>\n",
       "      <td>0.000000</td>\n",
       "      <td>0.000000</td>\n",
       "    </tr>\n",
       "    <tr>\n",
       "      <th>75%</th>\n",
       "      <td>9.439172e+13</td>\n",
       "      <td>5.725524e+06</td>\n",
       "      <td>55.000000</td>\n",
       "      <td>0.000000</td>\n",
       "      <td>0.000000</td>\n",
       "      <td>0.000000</td>\n",
       "      <td>0.000000</td>\n",
       "      <td>0.000000</td>\n",
       "      <td>1.000000</td>\n",
       "    </tr>\n",
       "    <tr>\n",
       "      <th>max</th>\n",
       "      <td>9.999816e+14</td>\n",
       "      <td>5.790484e+06</td>\n",
       "      <td>115.000000</td>\n",
       "      <td>1.000000</td>\n",
       "      <td>1.000000</td>\n",
       "      <td>1.000000</td>\n",
       "      <td>1.000000</td>\n",
       "      <td>4.000000</td>\n",
       "      <td>1.000000</td>\n",
       "    </tr>\n",
       "  </tbody>\n",
       "</table>\n",
       "</div>"
      ],
      "text/plain": [
       "          PatientId  AppointmentID            Age    Scholarship  \\\n",
       "count  1.105270e+05   1.105270e+05  110527.000000  110527.000000   \n",
       "mean   1.474963e+14   5.675305e+06      37.088874       0.098266   \n",
       "std    2.560949e+14   7.129575e+04      23.110205       0.297675   \n",
       "min    3.921784e+04   5.030230e+06      -1.000000       0.000000   \n",
       "25%    4.172614e+12   5.640286e+06      18.000000       0.000000   \n",
       "50%    3.173184e+13   5.680573e+06      37.000000       0.000000   \n",
       "75%    9.439172e+13   5.725524e+06      55.000000       0.000000   \n",
       "max    9.999816e+14   5.790484e+06     115.000000       1.000000   \n",
       "\n",
       "        Hipertension       Diabetes     Alcoholism        Handcap  \\\n",
       "count  110527.000000  110527.000000  110527.000000  110527.000000   \n",
       "mean        0.197246       0.071865       0.030400       0.022248   \n",
       "std         0.397921       0.258265       0.171686       0.161543   \n",
       "min         0.000000       0.000000       0.000000       0.000000   \n",
       "25%         0.000000       0.000000       0.000000       0.000000   \n",
       "50%         0.000000       0.000000       0.000000       0.000000   \n",
       "75%         0.000000       0.000000       0.000000       0.000000   \n",
       "max         1.000000       1.000000       1.000000       4.000000   \n",
       "\n",
       "        SMS_received  \n",
       "count  110527.000000  \n",
       "mean        0.321026  \n",
       "std         0.466873  \n",
       "min         0.000000  \n",
       "25%         0.000000  \n",
       "50%         0.000000  \n",
       "75%         1.000000  \n",
       "max         1.000000  "
      ]
     },
     "execution_count": 205,
     "metadata": {},
     "output_type": "execute_result"
    }
   ],
   "source": [
    "#descriptive statistic\n",
    "df.describe()"
   ]
  },
  {
   "cell_type": "markdown",
   "metadata": {},
   "source": [
    "### Data Cleaning"
   ]
  },
  {
   "cell_type": "code",
   "execution_count": 206,
   "metadata": {
    "ExecuteTime": {
     "end_time": "2018-10-20T23:52:24.810454Z",
     "start_time": "2018-10-20T23:52:24.406227Z"
    }
   },
   "outputs": [],
   "source": [
    "#convert date time columns to correctly type\n",
    "df[['ScheduledDay','AppointmentDay']] = df[['ScheduledDay','AppointmentDay']].astype('datetime64[ns]')"
   ]
  },
  {
   "cell_type": "code",
   "execution_count": 207,
   "metadata": {
    "ExecuteTime": {
     "end_time": "2018-10-20T23:52:24.846017Z",
     "start_time": "2018-10-20T23:52:24.813724Z"
    }
   },
   "outputs": [],
   "source": [
    "#drop rows with inconsistency\n",
    "df.drop(index=df[df.Age ==-1].index, inplace=True)"
   ]
  },
  {
   "cell_type": "code",
   "execution_count": 208,
   "metadata": {
    "ExecuteTime": {
     "end_time": "2018-10-20T23:52:24.914103Z",
     "start_time": "2018-10-20T23:52:24.850245Z"
    }
   },
   "outputs": [],
   "source": [
    "#improve No-show data\n",
    "df.iloc[:,13].replace(\"No\",\"1\", inplace=True)\n",
    "df.iloc[:,13].replace(\"Yes\",\"0\", inplace=True)\n",
    "df.rename(columns = {'No-show':'Show'}, inplace = True)\n",
    "df['Show'] = df['Show'].astype('int64')"
   ]
  },
  {
   "cell_type": "code",
   "execution_count": 209,
   "metadata": {
    "ExecuteTime": {
     "end_time": "2018-10-20T23:52:24.993703Z",
     "start_time": "2018-10-20T23:52:24.917358Z"
    }
   },
   "outputs": [
    {
     "name": "stdout",
     "output_type": "stream",
     "text": [
      "<class 'pandas.core.frame.DataFrame'>\n",
      "Int64Index: 110526 entries, 0 to 110526\n",
      "Data columns (total 14 columns):\n",
      "PatientId         110526 non-null float64\n",
      "AppointmentID     110526 non-null int64\n",
      "Gender            110526 non-null object\n",
      "ScheduledDay      110526 non-null datetime64[ns]\n",
      "AppointmentDay    110526 non-null datetime64[ns]\n",
      "Age               110526 non-null int64\n",
      "Neighbourhood     110526 non-null object\n",
      "Scholarship       110526 non-null int64\n",
      "Hipertension      110526 non-null int64\n",
      "Diabetes          110526 non-null int64\n",
      "Alcoholism        110526 non-null int64\n",
      "Handcap           110526 non-null int64\n",
      "SMS_received      110526 non-null int64\n",
      "Show              110526 non-null int64\n",
      "dtypes: datetime64[ns](2), float64(1), int64(9), object(2)\n",
      "memory usage: 12.6+ MB\n"
     ]
    }
   ],
   "source": [
    "#data information after data cleaning\n",
    "df.info()"
   ]
  },
  {
   "cell_type": "code",
   "execution_count": 210,
   "metadata": {
    "ExecuteTime": {
     "end_time": "2018-10-20T23:52:25.013594Z",
     "start_time": "2018-10-20T23:52:24.997071Z"
    }
   },
   "outputs": [
    {
     "data": {
      "text/html": [
       "<div>\n",
       "<style scoped>\n",
       "    .dataframe tbody tr th:only-of-type {\n",
       "        vertical-align: middle;\n",
       "    }\n",
       "\n",
       "    .dataframe tbody tr th {\n",
       "        vertical-align: top;\n",
       "    }\n",
       "\n",
       "    .dataframe thead th {\n",
       "        text-align: right;\n",
       "    }\n",
       "</style>\n",
       "<table border=\"1\" class=\"dataframe\">\n",
       "  <thead>\n",
       "    <tr style=\"text-align: right;\">\n",
       "      <th></th>\n",
       "      <th>ScheduledDay</th>\n",
       "      <th>AppointmentDay</th>\n",
       "    </tr>\n",
       "  </thead>\n",
       "  <tbody>\n",
       "    <tr>\n",
       "      <th>0</th>\n",
       "      <td>2016-04-29 18:38:08</td>\n",
       "      <td>2016-04-29</td>\n",
       "    </tr>\n",
       "    <tr>\n",
       "      <th>1</th>\n",
       "      <td>2016-04-29 16:08:27</td>\n",
       "      <td>2016-04-29</td>\n",
       "    </tr>\n",
       "    <tr>\n",
       "      <th>2</th>\n",
       "      <td>2016-04-29 16:19:04</td>\n",
       "      <td>2016-04-29</td>\n",
       "    </tr>\n",
       "    <tr>\n",
       "      <th>3</th>\n",
       "      <td>2016-04-29 17:29:31</td>\n",
       "      <td>2016-04-29</td>\n",
       "    </tr>\n",
       "    <tr>\n",
       "      <th>4</th>\n",
       "      <td>2016-04-29 16:07:23</td>\n",
       "      <td>2016-04-29</td>\n",
       "    </tr>\n",
       "  </tbody>\n",
       "</table>\n",
       "</div>"
      ],
      "text/plain": [
       "         ScheduledDay AppointmentDay\n",
       "0 2016-04-29 18:38:08     2016-04-29\n",
       "1 2016-04-29 16:08:27     2016-04-29\n",
       "2 2016-04-29 16:19:04     2016-04-29\n",
       "3 2016-04-29 17:29:31     2016-04-29\n",
       "4 2016-04-29 16:07:23     2016-04-29"
      ]
     },
     "execution_count": 210,
     "metadata": {},
     "output_type": "execute_result"
    }
   ],
   "source": [
    "#compare difference between ScheduledDay and AppointmentDay\n",
    "df[['ScheduledDay','AppointmentDay']].head()"
   ]
  },
  {
   "cell_type": "code",
   "execution_count": 211,
   "metadata": {
    "ExecuteTime": {
     "end_time": "2018-10-20T23:52:25.686384Z",
     "start_time": "2018-10-20T23:52:25.017383Z"
    }
   },
   "outputs": [],
   "source": [
    "#create a function to get part of day from date time\n",
    "def getpartday (currentTime):\n",
    "\n",
    "    currentTime = int(currentTime.hour)   \n",
    "\n",
    "    if currentTime < 12 :\n",
    "        return 'morning'\n",
    "    if currentTime > 12 :\n",
    "        return 'afternoon' \n",
    "    if currentTime > 6 :\n",
    "        return 'evening' \n",
    "#create a column to show the part of day from ScheduledDay\n",
    "df['Part_day'] = df.ScheduledDay.apply(getpartday)"
   ]
  },
  {
   "cell_type": "code",
   "execution_count": 212,
   "metadata": {
    "ExecuteTime": {
     "end_time": "2018-10-20T23:52:25.736726Z",
     "start_time": "2018-10-20T23:52:25.689466Z"
    }
   },
   "outputs": [],
   "source": [
    "#create a function to age group\n",
    "def getagegroup (currentAge):   \n",
    "\n",
    "    if currentAge < 16 :\n",
    "        return 'child (0–15)'\n",
    "    if currentAge < 31 :\n",
    "        return 'young adult (15–30)' \n",
    "    if currentAge < 51 :\n",
    "        return 'middle-aged adult (31–50)' \n",
    "    else:\n",
    "        return 'senior adult (>50)' \n",
    "#create a column to show age group\n",
    "df['Age_group'] = df.Age.apply(getagegroup)\n"
   ]
  },
  {
   "cell_type": "code",
   "execution_count": 213,
   "metadata": {
    "ExecuteTime": {
     "end_time": "2018-10-20T23:52:25.781110Z",
     "start_time": "2018-10-20T23:52:25.740508Z"
    }
   },
   "outputs": [],
   "source": [
    "#get the most interesting columns to analyse\n",
    "df_clean = df[['Gender','Age','Scholarship','Hipertension','Diabetes','Alcoholism','SMS_received','Show','Part_day','Age_group']]"
   ]
  },
  {
   "cell_type": "code",
   "execution_count": 214,
   "metadata": {
    "ExecuteTime": {
     "end_time": "2018-10-20T23:52:25.790388Z",
     "start_time": "2018-10-20T23:52:25.784152Z"
    }
   },
   "outputs": [],
   "source": [
    "#create a mask to analyse more easily if people showed or not at ScheduledDay\n",
    "show = df_clean.Show == True\n",
    "no_show = df_clean.Show == False"
   ]
  },
  {
   "cell_type": "code",
   "execution_count": 215,
   "metadata": {
    "ExecuteTime": {
     "end_time": "2018-10-20T23:52:25.814042Z",
     "start_time": "2018-10-20T23:52:25.794075Z"
    }
   },
   "outputs": [
    {
     "data": {
      "text/html": [
       "<div>\n",
       "<style scoped>\n",
       "    .dataframe tbody tr th:only-of-type {\n",
       "        vertical-align: middle;\n",
       "    }\n",
       "\n",
       "    .dataframe tbody tr th {\n",
       "        vertical-align: top;\n",
       "    }\n",
       "\n",
       "    .dataframe thead th {\n",
       "        text-align: right;\n",
       "    }\n",
       "</style>\n",
       "<table border=\"1\" class=\"dataframe\">\n",
       "  <thead>\n",
       "    <tr style=\"text-align: right;\">\n",
       "      <th></th>\n",
       "      <th>Gender</th>\n",
       "      <th>Age</th>\n",
       "      <th>Scholarship</th>\n",
       "      <th>Hipertension</th>\n",
       "      <th>Diabetes</th>\n",
       "      <th>Alcoholism</th>\n",
       "      <th>SMS_received</th>\n",
       "      <th>Show</th>\n",
       "      <th>Part_day</th>\n",
       "      <th>Age_group</th>\n",
       "    </tr>\n",
       "  </thead>\n",
       "  <tbody>\n",
       "    <tr>\n",
       "      <th>0</th>\n",
       "      <td>F</td>\n",
       "      <td>62</td>\n",
       "      <td>0</td>\n",
       "      <td>1</td>\n",
       "      <td>0</td>\n",
       "      <td>0</td>\n",
       "      <td>0</td>\n",
       "      <td>1</td>\n",
       "      <td>afternoon</td>\n",
       "      <td>senior adult (&gt;50)</td>\n",
       "    </tr>\n",
       "    <tr>\n",
       "      <th>1</th>\n",
       "      <td>M</td>\n",
       "      <td>56</td>\n",
       "      <td>0</td>\n",
       "      <td>0</td>\n",
       "      <td>0</td>\n",
       "      <td>0</td>\n",
       "      <td>0</td>\n",
       "      <td>1</td>\n",
       "      <td>afternoon</td>\n",
       "      <td>senior adult (&gt;50)</td>\n",
       "    </tr>\n",
       "    <tr>\n",
       "      <th>2</th>\n",
       "      <td>F</td>\n",
       "      <td>62</td>\n",
       "      <td>0</td>\n",
       "      <td>0</td>\n",
       "      <td>0</td>\n",
       "      <td>0</td>\n",
       "      <td>0</td>\n",
       "      <td>1</td>\n",
       "      <td>afternoon</td>\n",
       "      <td>senior adult (&gt;50)</td>\n",
       "    </tr>\n",
       "    <tr>\n",
       "      <th>3</th>\n",
       "      <td>F</td>\n",
       "      <td>8</td>\n",
       "      <td>0</td>\n",
       "      <td>0</td>\n",
       "      <td>0</td>\n",
       "      <td>0</td>\n",
       "      <td>0</td>\n",
       "      <td>1</td>\n",
       "      <td>afternoon</td>\n",
       "      <td>child (0–15)</td>\n",
       "    </tr>\n",
       "    <tr>\n",
       "      <th>4</th>\n",
       "      <td>F</td>\n",
       "      <td>56</td>\n",
       "      <td>0</td>\n",
       "      <td>1</td>\n",
       "      <td>1</td>\n",
       "      <td>0</td>\n",
       "      <td>0</td>\n",
       "      <td>1</td>\n",
       "      <td>afternoon</td>\n",
       "      <td>senior adult (&gt;50)</td>\n",
       "    </tr>\n",
       "  </tbody>\n",
       "</table>\n",
       "</div>"
      ],
      "text/plain": [
       "  Gender  Age  Scholarship  Hipertension  Diabetes  Alcoholism  SMS_received  \\\n",
       "0      F   62            0             1         0           0             0   \n",
       "1      M   56            0             0         0           0             0   \n",
       "2      F   62            0             0         0           0             0   \n",
       "3      F    8            0             0         0           0             0   \n",
       "4      F   56            0             1         1           0             0   \n",
       "\n",
       "   Show   Part_day           Age_group  \n",
       "0     1  afternoon  senior adult (>50)  \n",
       "1     1  afternoon  senior adult (>50)  \n",
       "2     1  afternoon  senior adult (>50)  \n",
       "3     1  afternoon        child (0–15)  \n",
       "4     1  afternoon  senior adult (>50)  "
      ]
     },
     "execution_count": 215,
     "metadata": {},
     "output_type": "execute_result"
    }
   ],
   "source": [
    "#show dataframe cleaned\n",
    "df_clean.head()"
   ]
  },
  {
   "cell_type": "code",
   "execution_count": 216,
   "metadata": {
    "ExecuteTime": {
     "end_time": "2018-10-20T23:52:25.903988Z",
     "start_time": "2018-10-20T23:52:25.817665Z"
    }
   },
   "outputs": [
    {
     "data": {
      "text/html": [
       "<div>\n",
       "<style scoped>\n",
       "    .dataframe tbody tr th:only-of-type {\n",
       "        vertical-align: middle;\n",
       "    }\n",
       "\n",
       "    .dataframe tbody tr th {\n",
       "        vertical-align: top;\n",
       "    }\n",
       "\n",
       "    .dataframe thead th {\n",
       "        text-align: right;\n",
       "    }\n",
       "</style>\n",
       "<table border=\"1\" class=\"dataframe\">\n",
       "  <thead>\n",
       "    <tr style=\"text-align: right;\">\n",
       "      <th></th>\n",
       "      <th>Age</th>\n",
       "      <th>Scholarship</th>\n",
       "      <th>Hipertension</th>\n",
       "      <th>Diabetes</th>\n",
       "      <th>Alcoholism</th>\n",
       "      <th>SMS_received</th>\n",
       "      <th>Show</th>\n",
       "    </tr>\n",
       "  </thead>\n",
       "  <tbody>\n",
       "    <tr>\n",
       "      <th>count</th>\n",
       "      <td>110526.000000</td>\n",
       "      <td>110526.000000</td>\n",
       "      <td>110526.000000</td>\n",
       "      <td>110526.000000</td>\n",
       "      <td>110526.000000</td>\n",
       "      <td>110526.000000</td>\n",
       "      <td>110526.000000</td>\n",
       "    </tr>\n",
       "    <tr>\n",
       "      <th>mean</th>\n",
       "      <td>37.089219</td>\n",
       "      <td>0.098266</td>\n",
       "      <td>0.197248</td>\n",
       "      <td>0.071865</td>\n",
       "      <td>0.030400</td>\n",
       "      <td>0.321029</td>\n",
       "      <td>0.798066</td>\n",
       "    </tr>\n",
       "    <tr>\n",
       "      <th>std</th>\n",
       "      <td>23.110026</td>\n",
       "      <td>0.297676</td>\n",
       "      <td>0.397923</td>\n",
       "      <td>0.258266</td>\n",
       "      <td>0.171686</td>\n",
       "      <td>0.466874</td>\n",
       "      <td>0.401445</td>\n",
       "    </tr>\n",
       "    <tr>\n",
       "      <th>min</th>\n",
       "      <td>0.000000</td>\n",
       "      <td>0.000000</td>\n",
       "      <td>0.000000</td>\n",
       "      <td>0.000000</td>\n",
       "      <td>0.000000</td>\n",
       "      <td>0.000000</td>\n",
       "      <td>0.000000</td>\n",
       "    </tr>\n",
       "    <tr>\n",
       "      <th>25%</th>\n",
       "      <td>18.000000</td>\n",
       "      <td>0.000000</td>\n",
       "      <td>0.000000</td>\n",
       "      <td>0.000000</td>\n",
       "      <td>0.000000</td>\n",
       "      <td>0.000000</td>\n",
       "      <td>1.000000</td>\n",
       "    </tr>\n",
       "    <tr>\n",
       "      <th>50%</th>\n",
       "      <td>37.000000</td>\n",
       "      <td>0.000000</td>\n",
       "      <td>0.000000</td>\n",
       "      <td>0.000000</td>\n",
       "      <td>0.000000</td>\n",
       "      <td>0.000000</td>\n",
       "      <td>1.000000</td>\n",
       "    </tr>\n",
       "    <tr>\n",
       "      <th>75%</th>\n",
       "      <td>55.000000</td>\n",
       "      <td>0.000000</td>\n",
       "      <td>0.000000</td>\n",
       "      <td>0.000000</td>\n",
       "      <td>0.000000</td>\n",
       "      <td>1.000000</td>\n",
       "      <td>1.000000</td>\n",
       "    </tr>\n",
       "    <tr>\n",
       "      <th>max</th>\n",
       "      <td>115.000000</td>\n",
       "      <td>1.000000</td>\n",
       "      <td>1.000000</td>\n",
       "      <td>1.000000</td>\n",
       "      <td>1.000000</td>\n",
       "      <td>1.000000</td>\n",
       "      <td>1.000000</td>\n",
       "    </tr>\n",
       "  </tbody>\n",
       "</table>\n",
       "</div>"
      ],
      "text/plain": [
       "                 Age    Scholarship   Hipertension       Diabetes  \\\n",
       "count  110526.000000  110526.000000  110526.000000  110526.000000   \n",
       "mean       37.089219       0.098266       0.197248       0.071865   \n",
       "std        23.110026       0.297676       0.397923       0.258266   \n",
       "min         0.000000       0.000000       0.000000       0.000000   \n",
       "25%        18.000000       0.000000       0.000000       0.000000   \n",
       "50%        37.000000       0.000000       0.000000       0.000000   \n",
       "75%        55.000000       0.000000       0.000000       0.000000   \n",
       "max       115.000000       1.000000       1.000000       1.000000   \n",
       "\n",
       "          Alcoholism   SMS_received           Show  \n",
       "count  110526.000000  110526.000000  110526.000000  \n",
       "mean        0.030400       0.321029       0.798066  \n",
       "std         0.171686       0.466874       0.401445  \n",
       "min         0.000000       0.000000       0.000000  \n",
       "25%         0.000000       0.000000       1.000000  \n",
       "50%         0.000000       0.000000       1.000000  \n",
       "75%         0.000000       1.000000       1.000000  \n",
       "max         1.000000       1.000000       1.000000  "
      ]
     },
     "execution_count": 216,
     "metadata": {},
     "output_type": "execute_result"
    }
   ],
   "source": [
    "#descriptive statistic\n",
    "df_clean.describe()"
   ]
  },
  {
   "cell_type": "code",
   "execution_count": 217,
   "metadata": {
    "ExecuteTime": {
     "end_time": "2018-10-20T23:52:26.887632Z",
     "start_time": "2018-10-20T23:52:25.907566Z"
    }
   },
   "outputs": [
    {
     "data": {
      "text/plain": [
       "array([[<matplotlib.axes._subplots.AxesSubplot object at 0x1c332d6cc0>,\n",
       "        <matplotlib.axes._subplots.AxesSubplot object at 0x1c380abf60>,\n",
       "        <matplotlib.axes._subplots.AxesSubplot object at 0x1c380da240>],\n",
       "       [<matplotlib.axes._subplots.AxesSubplot object at 0x1c38081550>,\n",
       "        <matplotlib.axes._subplots.AxesSubplot object at 0x1c3802a860>,\n",
       "        <matplotlib.axes._subplots.AxesSubplot object at 0x1c3802a898>],\n",
       "       [<matplotlib.axes._subplots.AxesSubplot object at 0x1c37ffee80>,\n",
       "        <matplotlib.axes._subplots.AxesSubplot object at 0x1c37fb21d0>,\n",
       "        <matplotlib.axes._subplots.AxesSubplot object at 0x1c37f5c4e0>]],\n",
       "      dtype=object)"
      ]
     },
     "execution_count": 217,
     "metadata": {},
     "output_type": "execute_result"
    },
    {
     "data": {
      "image/png": "[encoded data removed]",
      "text/plain": [
       "<Figure size 1440x720 with 9 Axes>"
      ]
     },
     "metadata": {},
     "output_type": "display_data"
    }
   ],
   "source": [
    "#variables frequency\n",
    "df_clean[['Age','Scholarship','Hipertension','Diabetes','Alcoholism','SMS_received','Show']].hist(figsize=(20,10))"
   ]
  },
  {
   "cell_type": "markdown",
   "metadata": {},
   "source": [
    "<b>Plot comments:</b>\n",
    "\n",
    "- There is a drop down of number of people over 60 yes old;\n",
    "- There are fewer people with alcoholism, diabetes, hypertension, received sms and scholarship;\n",
    "- There are more people who show up for their scheduled appointment."
   ]
  },
  {
   "cell_type": "code",
   "execution_count": 218,
   "metadata": {
    "ExecuteTime": {
     "end_time": "2018-10-20T23:52:27.337264Z",
     "start_time": "2018-10-20T23:52:26.890224Z"
    }
   },
   "outputs": [
    {
     "data": {
      "text/plain": [
       "Text(0.5,1,'Dataframe Variables Heatmap')"
      ]
     },
     "execution_count": 218,
     "metadata": {},
     "output_type": "execute_result"
    },
    {
     "data": {
      "image/png": "[encoded data removed]",
      "text/plain": [
       "<Figure size 720x720 with 2 Axes>"
      ]
     },
     "metadata": {},
     "output_type": "display_data"
    }
   ],
   "source": [
    "#check variables correlation\n",
    "corr = df_clean.corr()\n",
    "fig, ax = plt.subplots(figsize=(10, 10))\n",
    "colormap = sns.diverging_palette(220, 10, as_cmap=True)\n",
    "sns.heatmap(corr, cmap=colormap, annot=True, fmt=\".2f\")\n",
    "plt.xticks(range(len(corr.columns)), corr.columns)\n",
    "plt.yticks(range(len(corr.columns)), corr.columns)\n",
    "ax.set_title('Dataframe Variables Heatmap')\n"
   ]
  },
  {
   "cell_type": "markdown",
   "metadata": {
    "ExecuteTime": {
     "end_time": "2018-10-20T22:51:29.820395Z",
     "start_time": "2018-10-20T22:51:29.815814Z"
    }
   },
   "source": [
    "<b>Plot comments:</b>\n",
    "\n",
    "-There is a reasonable correlation between age-hypertension, diabetes-hypertension and diabetes-age."
   ]
  },
  {
   "cell_type": "code",
   "execution_count": 219,
   "metadata": {
    "ExecuteTime": {
     "end_time": "2018-10-20T23:52:27.452894Z",
     "start_time": "2018-10-20T23:52:27.339836Z"
    }
   },
   "outputs": [
    {
     "data": {
      "text/html": [
       "<table class=\"simpletable\">\n",
       "<caption>OLS Regression Results</caption>\n",
       "<tr>\n",
       "  <th>Dep. Variable:</th>          <td>Show</td>       <th>  R-squared:         </th> <td>   0.021</td> \n",
       "</tr>\n",
       "<tr>\n",
       "  <th>Model:</th>                   <td>OLS</td>       <th>  Adj. R-squared:    </th> <td>   0.020</td> \n",
       "</tr>\n",
       "<tr>\n",
       "  <th>Method:</th>             <td>Least Squares</td>  <th>  F-statistic:       </th> <td>   385.7</td> \n",
       "</tr>\n",
       "<tr>\n",
       "  <th>Date:</th>             <td>Sat, 20 Oct 2018</td> <th>  Prob (F-statistic):</th>  <td>  0.00</td>  \n",
       "</tr>\n",
       "<tr>\n",
       "  <th>Time:</th>                 <td>20:52:27</td>     <th>  Log-Likelihood:    </th> <td> -54808.</td> \n",
       "</tr>\n",
       "<tr>\n",
       "  <th>No. Observations:</th>      <td>110526</td>      <th>  AIC:               </th> <td>1.096e+05</td>\n",
       "</tr>\n",
       "<tr>\n",
       "  <th>Df Residuals:</th>          <td>110519</td>      <th>  BIC:               </th> <td>1.097e+05</td>\n",
       "</tr>\n",
       "<tr>\n",
       "  <th>Df Model:</th>              <td>     6</td>      <th>                     </th>     <td> </td>    \n",
       "</tr>\n",
       "<tr>\n",
       "  <th>Covariance Type:</th>      <td>nonrobust</td>    <th>                     </th>     <td> </td>    \n",
       "</tr>\n",
       "</table>\n",
       "<table class=\"simpletable\">\n",
       "<tr>\n",
       "        <td></td>          <th>coef</th>     <th>std err</th>      <th>t</th>      <th>P>|t|</th>  <th>[0.025</th>    <th>0.975]</th>  \n",
       "</tr>\n",
       "<tr>\n",
       "  <th>const</th>        <td>    0.7984</td> <td>    0.003</td> <td>  318.780</td> <td> 0.000</td> <td>    0.794</td> <td>    0.803</td>\n",
       "</tr>\n",
       "<tr>\n",
       "  <th>Age</th>          <td>    0.0010</td> <td> 6.06e-05</td> <td>   16.712</td> <td> 0.000</td> <td>    0.001</td> <td>    0.001</td>\n",
       "</tr>\n",
       "<tr>\n",
       "  <th>Scholarship</th>  <td>   -0.0314</td> <td>    0.004</td> <td>   -7.786</td> <td> 0.000</td> <td>   -0.039</td> <td>   -0.024</td>\n",
       "</tr>\n",
       "<tr>\n",
       "  <th>Hipertension</th> <td>    0.0094</td> <td>    0.004</td> <td>    2.534</td> <td> 0.011</td> <td>    0.002</td> <td>    0.017</td>\n",
       "</tr>\n",
       "<tr>\n",
       "  <th>Diabetes</th>     <td>   -0.0127</td> <td>    0.005</td> <td>   -2.464</td> <td> 0.014</td> <td>   -0.023</td> <td>   -0.003</td>\n",
       "</tr>\n",
       "<tr>\n",
       "  <th>Alcoholism</th>   <td>   -0.0200</td> <td>    0.007</td> <td>   -2.859</td> <td> 0.004</td> <td>   -0.034</td> <td>   -0.006</td>\n",
       "</tr>\n",
       "<tr>\n",
       "  <th>SMS_received</th> <td>   -0.1096</td> <td>    0.003</td> <td>  -42.773</td> <td> 0.000</td> <td>   -0.115</td> <td>   -0.105</td>\n",
       "</tr>\n",
       "</table>\n",
       "<table class=\"simpletable\">\n",
       "<tr>\n",
       "  <th>Omnibus:</th>       <td>22029.646</td> <th>  Durbin-Watson:     </th> <td>   1.803</td> \n",
       "</tr>\n",
       "<tr>\n",
       "  <th>Prob(Omnibus):</th>  <td> 0.000</td>   <th>  Jarque-Bera (JB):  </th> <td>38528.982</td>\n",
       "</tr>\n",
       "<tr>\n",
       "  <th>Skew:</th>           <td>-1.442</td>   <th>  Prob(JB):          </th> <td>    0.00</td> \n",
       "</tr>\n",
       "<tr>\n",
       "  <th>Kurtosis:</th>       <td> 3.211</td>   <th>  Cond. No.          </th> <td>    257.</td> \n",
       "</tr>\n",
       "</table><br/><br/>Warnings:<br/>[1] Standard Errors assume that the covariance matrix of the errors is correctly specified."
      ],
      "text/plain": [
       "<class 'statsmodels.iolib.summary.Summary'>\n",
       "\"\"\"\n",
       "                            OLS Regression Results                            \n",
       "==============================================================================\n",
       "Dep. Variable:                   Show   R-squared:                       0.021\n",
       "Model:                            OLS   Adj. R-squared:                  0.020\n",
       "Method:                 Least Squares   F-statistic:                     385.7\n",
       "Date:                Sat, 20 Oct 2018   Prob (F-statistic):               0.00\n",
       "Time:                        20:52:27   Log-Likelihood:                -54808.\n",
       "No. Observations:              110526   AIC:                         1.096e+05\n",
       "Df Residuals:                  110519   BIC:                         1.097e+05\n",
       "Df Model:                           6                                         \n",
       "Covariance Type:            nonrobust                                         \n",
       "================================================================================\n",
       "                   coef    std err          t      P>|t|      [0.025      0.975]\n",
       "--------------------------------------------------------------------------------\n",
       "const            0.7984      0.003    318.780      0.000       0.794       0.803\n",
       "Age              0.0010   6.06e-05     16.712      0.000       0.001       0.001\n",
       "Scholarship     -0.0314      0.004     -7.786      0.000      -0.039      -0.024\n",
       "Hipertension     0.0094      0.004      2.534      0.011       0.002       0.017\n",
       "Diabetes        -0.0127      0.005     -2.464      0.014      -0.023      -0.003\n",
       "Alcoholism      -0.0200      0.007     -2.859      0.004      -0.034      -0.006\n",
       "SMS_received    -0.1096      0.003    -42.773      0.000      -0.115      -0.105\n",
       "==============================================================================\n",
       "Omnibus:                    22029.646   Durbin-Watson:                   1.803\n",
       "Prob(Omnibus):                  0.000   Jarque-Bera (JB):            38528.982\n",
       "Skew:                          -1.442   Prob(JB):                         0.00\n",
       "Kurtosis:                       3.211   Cond. No.                         257.\n",
       "==============================================================================\n",
       "\n",
       "Warnings:\n",
       "[1] Standard Errors assume that the covariance matrix of the errors is correctly specified.\n",
       "\"\"\""
      ]
     },
     "execution_count": 219,
     "metadata": {},
     "output_type": "execute_result"
    }
   ],
   "source": [
    "#check regression model\n",
    "X = df[['Age','Scholarship','Hipertension','Diabetes','Alcoholism','SMS_received']]\n",
    "y = df[\"Show\"]\n",
    "X = sm.add_constant(X)\n",
    "\n",
    "model = sm.OLS(y, X).fit()\n",
    "predictions = model.predict(X)\n",
    "\n",
    "model.summary()\n"
   ]
  },
  {
   "cell_type": "markdown",
   "metadata": {},
   "source": [
    "<b>Plot comments:</b>\n",
    "\n",
    "-The variables do not explain attendance in scheduled appointment, there are low values to correlation and r-square."
   ]
  },
  {
   "cell_type": "markdown",
   "metadata": {},
   "source": [
    "<a id='eda'></a>\n",
    "## Exploratory Data Analysis"
   ]
  },
  {
   "cell_type": "markdown",
   "metadata": {},
   "source": [
    "### What part of the day has more appointment attendance?"
   ]
  },
  {
   "cell_type": "code",
   "execution_count": 220,
   "metadata": {
    "ExecuteTime": {
     "end_time": "2018-10-20T23:52:27.674215Z",
     "start_time": "2018-10-20T23:52:27.456256Z"
    }
   },
   "outputs": [
    {
     "data": {
      "text/plain": [
       "(array([0, 1, 2]), <a list of 3 Text xticklabel objects>)"
      ]
     },
     "execution_count": 220,
     "metadata": {},
     "output_type": "execute_result"
    },
    {
     "data": {
      "image/png": "[encoded data removed]",
      "text/plain": [
       "<Figure size 432x288 with 1 Axes>"
      ]
     },
     "metadata": {},
     "output_type": "display_data"
    }
   ],
   "source": [
    "df_clean.Part_day[show].value_counts().plot(kind='bar', alpha=0.5, color='blue', label='attendance')\n",
    "df_clean.Part_day[no_show].value_counts().plot(kind='bar', alpha=0.5, color='red', label='non-attendance')\n",
    "plt.legend()\n",
    "plt.title('Parts of the Day Appointment Attendance')\n",
    "plt.xlabel('Parts of the Day')\n",
    "plt.ylabel('Patient Quantity')\n",
    "plt.xticks(rotation=0)"
   ]
  },
  {
   "cell_type": "markdown",
   "metadata": {},
   "source": [
    "<b>Plot comments:</b>\n",
    "\n",
    "-As we can see at above graph, the attendance percentage isn't to different between the parts of day. However, in the morning there's show up more for their scheduled appointment."
   ]
  },
  {
   "cell_type": "code",
   "execution_count": 221,
   "metadata": {
    "ExecuteTime": {
     "end_time": "2018-10-20T23:52:27.777897Z",
     "start_time": "2018-10-20T23:52:27.677504Z"
    }
   },
   "outputs": [
    {
     "name": "stdout",
     "output_type": "stream",
     "text": [
      "\u001b[1mAttendance Percentage:\n",
      "\u001b[0mafternoon: 77.33%\n",
      "\u001b[0mmorning: 81.14%\n",
      "\u001b[0mevening: 79.64%\n"
     ]
    }
   ],
   "source": [
    "v_no_show = df_clean.loc[df_clean.Show == 0]\n",
    "v_show = df_clean.loc[df_clean.Show == 1]\n",
    "\n",
    "print('\\033[1m' + \"Attendance Percentage:\")\n",
    "for day in df_clean.Part_day.unique():\n",
    "    print('\\033[0m' + \"{}: {:.2%}\".format(day,len(v_show[v_show.Part_day==day]) / (len(v_show[v_show.Part_day==day])+len(v_no_show[v_no_show.Part_day==day]))))\n"
   ]
  },
  {
   "cell_type": "markdown",
   "metadata": {},
   "source": [
    "### What age group has more appointment attendance?"
   ]
  },
  {
   "cell_type": "code",
   "execution_count": 222,
   "metadata": {
    "ExecuteTime": {
     "end_time": "2018-10-20T23:52:28.005716Z",
     "start_time": "2018-10-20T23:52:27.781099Z"
    }
   },
   "outputs": [
    {
     "data": {
      "text/plain": [
       "(array([0, 1, 2, 3]), <a list of 4 Text xticklabel objects>)"
      ]
     },
     "execution_count": 222,
     "metadata": {},
     "output_type": "execute_result"
    },
    {
     "data": {
      "image/png": "[encoded data removed]",
      "text/plain": [
       "<Figure size 432x288 with 1 Axes>"
      ]
     },
     "metadata": {},
     "output_type": "display_data"
    }
   ],
   "source": [
    "df_clean.Age_group[show].value_counts().plot(kind='bar', alpha=0.5, color='blue', label='attendance')\n",
    "df_clean.Age_group[no_show].value_counts().plot(kind='bar', alpha=0.5, color='red', label='non-attendance')\n",
    "plt.legend()\n",
    "plt.title('Age Group Appointment Attendance')\n",
    "plt.ylabel('Patient Quantity')\n",
    "plt.xlabel('Age Group')\n",
    "plt.xticks(rotation=40)"
   ]
  },
  {
   "cell_type": "markdown",
   "metadata": {
    "ExecuteTime": {
     "end_time": "2018-10-20T23:10:21.241733Z",
     "start_time": "2018-10-20T23:10:21.236307Z"
    }
   },
   "source": [
    "<b>Plot comments:</b>\n",
    "\n",
    "-As we can see at above graph, the attendance percentage isn't to different between the age groups. However, the senior adult there's show up more for their scheduled appointment."
   ]
  },
  {
   "cell_type": "code",
   "execution_count": 223,
   "metadata": {
    "ExecuteTime": {
     "end_time": "2018-10-20T23:52:28.117608Z",
     "start_time": "2018-10-20T23:52:28.009222Z"
    }
   },
   "outputs": [
    {
     "name": "stdout",
     "output_type": "stream",
     "text": [
      "\u001b[1mAttendance Percentage:\n",
      "\u001b[0msenior adult (>50): 83.83%\n",
      "\u001b[0mchild (0–15): 78.55%\n",
      "\u001b[0myoung adult (15–30): 75.23%\n",
      "\u001b[0mmiddle-aged adult (31–50): 79.30%\n"
     ]
    }
   ],
   "source": [
    "print('\\033[1m' + \"Attendance Percentage:\")\n",
    "for var in df_clean.Age_group.unique():\n",
    "    print('\\033[0m' + \"{}: {:.2%}\".format(var,len(v_show[v_show.Age_group==var]) / (len(v_show[v_show.Age_group==var])+len(v_no_show[v_no_show.Age_group==var]))))\n"
   ]
  },
  {
   "cell_type": "markdown",
   "metadata": {},
   "source": [
    "### Is a scholarship a strong variable to impact appointment attendance?"
   ]
  },
  {
   "cell_type": "code",
   "execution_count": 224,
   "metadata": {
    "ExecuteTime": {
     "end_time": "2018-10-20T23:52:28.312308Z",
     "start_time": "2018-10-20T23:52:28.121579Z"
    }
   },
   "outputs": [
    {
     "data": {
      "text/plain": [
       "(array([0, 1]), <a list of 2 Text xticklabel objects>)"
      ]
     },
     "execution_count": 224,
     "metadata": {},
     "output_type": "execute_result"
    },
    {
     "data": {
      "image/png": "[encoded data removed]",
      "text/plain": [
       "<Figure size 432x288 with 1 Axes>"
      ]
     },
     "metadata": {},
     "output_type": "display_data"
    }
   ],
   "source": [
    "df_clean.Scholarship[show].value_counts().plot(kind='bar', alpha=0.5, color='blue', label='attendance')\n",
    "df_clean.Scholarship[no_show].value_counts().plot(kind='bar', alpha=0.5, color='red', label='non-attendance')\n",
    "plt.legend()\n",
    "plt.title('Scholarship Appointment Attendance')\n",
    "plt.xlabel('Scholarship (1- Yes / 2- No)')\n",
    "plt.ylabel('Patient Quantity')\n",
    "plt.xticks(rotation=0)"
   ]
  },
  {
   "cell_type": "markdown",
   "metadata": {},
   "source": [
    "<b>Plot comments:</b>\n",
    "\n",
    "-As we can see at above graph, the attendance percentage isn't to different between scholarship. However, people how hasn't scholarship show up more for their scheduled appointment."
   ]
  },
  {
   "cell_type": "code",
   "execution_count": 225,
   "metadata": {
    "ExecuteTime": {
     "end_time": "2018-10-20T23:52:28.341429Z",
     "start_time": "2018-10-20T23:52:28.315719Z"
    }
   },
   "outputs": [
    {
     "name": "stdout",
     "output_type": "stream",
     "text": [
      "\u001b[1mAttendance Percentage:\n",
      "\u001b[0m0: 80.19%\n",
      "\u001b[0m1: 76.26%\n"
     ]
    }
   ],
   "source": [
    "print('\\033[1m' + \"Attendance Percentage:\")\n",
    "for var in df_clean.Scholarship.unique():\n",
    "    print('\\033[0m' + \"{}: {:.2%}\".format(var,len(v_show[v_show.Scholarship==var]) / (len(v_show[v_show.Scholarship==var])+len(v_no_show[v_no_show.Scholarship==var]))))\n"
   ]
  },
  {
   "cell_type": "markdown",
   "metadata": {},
   "source": [
    "### Is a gender a strong variable to impact appointment attendance?"
   ]
  },
  {
   "cell_type": "code",
   "execution_count": 226,
   "metadata": {
    "ExecuteTime": {
     "end_time": "2018-10-20T23:52:28.546947Z",
     "start_time": "2018-10-20T23:52:28.344795Z"
    }
   },
   "outputs": [
    {
     "data": {
      "text/plain": [
       "(array([0, 1]), <a list of 2 Text xticklabel objects>)"
      ]
     },
     "execution_count": 226,
     "metadata": {},
     "output_type": "execute_result"
    },
    {
     "data": {
      "image/png": "[encoded data removed]",
      "text/plain": [
       "<Figure size 432x288 with 1 Axes>"
      ]
     },
     "metadata": {},
     "output_type": "display_data"
    }
   ],
   "source": [
    "df_clean.Gender[show].value_counts().plot(kind='bar', alpha=0.5, color='blue', label='attendance')\n",
    "df_clean.Gender[no_show].value_counts().plot(kind='bar', alpha=0.5, color='red', label='non-attendance')\n",
    "plt.legend()\n",
    "plt.title('Gender Appointment Attendance')\n",
    "plt.xlabel('Gender (F- Female / M- Male)')\n",
    "plt.ylabel('Patient Quantity')\n",
    "plt.xticks(rotation=0)"
   ]
  },
  {
   "cell_type": "markdown",
   "metadata": {
    "ExecuteTime": {
     "end_time": "2018-10-20T23:14:51.442849Z",
     "start_time": "2018-10-20T23:14:51.437445Z"
    }
   },
   "source": [
    "<b>Plot comments:</b>\n",
    "\n",
    "-As we can see at above graph, the attendance percentage isn't to different between gender. However, males show up more for their scheduled appointment."
   ]
  },
  {
   "cell_type": "code",
   "execution_count": 227,
   "metadata": {
    "ExecuteTime": {
     "end_time": "2018-10-20T23:52:28.614683Z",
     "start_time": "2018-10-20T23:52:28.549943Z"
    }
   },
   "outputs": [
    {
     "name": "stdout",
     "output_type": "stream",
     "text": [
      "\u001b[1mAttendance Percentage:\n",
      "\u001b[0mF: 79.69%\n",
      "\u001b[0mM: 80.03%\n"
     ]
    }
   ],
   "source": [
    "print('\\033[1m' + \"Attendance Percentage:\")\n",
    "for var in df_clean.Gender.unique():\n",
    "    print('\\033[0m' + \"{}: {:.2%}\".format(var,len(v_show[v_show.Gender==var]) / (len(v_show[v_show.Gender==var])+len(v_no_show[v_no_show.Gender==var]))))\n"
   ]
  },
  {
   "cell_type": "markdown",
   "metadata": {},
   "source": [
    "### Is a hipertension a strong variable to impact appointment attendance?"
   ]
  },
  {
   "cell_type": "code",
   "execution_count": 228,
   "metadata": {
    "ExecuteTime": {
     "end_time": "2018-10-20T23:52:28.806998Z",
     "start_time": "2018-10-20T23:52:28.618141Z"
    }
   },
   "outputs": [
    {
     "data": {
      "text/plain": [
       "(array([0, 1]), <a list of 2 Text xticklabel objects>)"
      ]
     },
     "execution_count": 228,
     "metadata": {},
     "output_type": "execute_result"
    },
    {
     "data": {
      "image/png": "[encoded data removed]",
      "text/plain": [
       "<Figure size 432x288 with 1 Axes>"
      ]
     },
     "metadata": {},
     "output_type": "display_data"
    }
   ],
   "source": [
    "df_clean.Hipertension[show].value_counts().plot(kind='bar', alpha=0.5, color='blue', label='attendance')\n",
    "df_clean.Hipertension[no_show].value_counts().plot(kind='bar', alpha=0.5, color='red', label='non-attendance')\n",
    "plt.legend()\n",
    "plt.title('Hipertension Appointment Attendance')\n",
    "plt.xlabel('Hipertension (1- Yes / 2- No)')\n",
    "plt.ylabel('Patient Quantity')\n",
    "plt.xticks(rotation=0)"
   ]
  },
  {
   "cell_type": "markdown",
   "metadata": {},
   "source": [
    "<b>Plot comments:</b>\n",
    "\n",
    "-As we can see at above graph, the attendance percentage isn't to different between hipertension. However, people how has hipertension show up more for their scheduled appointment."
   ]
  },
  {
   "cell_type": "code",
   "execution_count": 229,
   "metadata": {
    "ExecuteTime": {
     "end_time": "2018-10-20T23:52:28.841599Z",
     "start_time": "2018-10-20T23:52:28.811001Z"
    }
   },
   "outputs": [
    {
     "name": "stdout",
     "output_type": "stream",
     "text": [
      "\u001b[1mAttendance Percentage:\n",
      "\u001b[0m1: 82.70%\n",
      "\u001b[0m0: 79.10%\n"
     ]
    }
   ],
   "source": [
    "print('\\033[1m' + \"Attendance Percentage:\")\n",
    "for var in df_clean.Hipertension.unique():\n",
    "    print('\\033[0m' + \"{}: {:.2%}\".format(var,len(v_show[v_show.Hipertension==var]) / (len(v_show[v_show.Hipertension==var])+len(v_no_show[v_no_show.Hipertension==var]))))\n"
   ]
  },
  {
   "cell_type": "markdown",
   "metadata": {},
   "source": [
    "### Is a diabetes a strong variable to impact appointment attendance?"
   ]
  },
  {
   "cell_type": "code",
   "execution_count": 230,
   "metadata": {
    "ExecuteTime": {
     "end_time": "2018-10-20T23:52:29.042406Z",
     "start_time": "2018-10-20T23:52:28.845564Z"
    }
   },
   "outputs": [
    {
     "data": {
      "text/plain": [
       "(array([0, 1]), <a list of 2 Text xticklabel objects>)"
      ]
     },
     "execution_count": 230,
     "metadata": {},
     "output_type": "execute_result"
    },
    {
     "data": {
      "image/png": "[encoded data removed]",
      "text/plain": [
       "<Figure size 432x288 with 1 Axes>"
      ]
     },
     "metadata": {},
     "output_type": "display_data"
    }
   ],
   "source": [
    "df_clean.Diabetes[show].value_counts().plot(kind='bar', alpha=0.5, color='blue', label='attendance')\n",
    "df_clean.Diabetes[no_show].value_counts().plot(kind='bar', alpha=0.5, color='red', label='non-attendance')\n",
    "plt.legend()\n",
    "plt.title('Diabetes Appointment Attendance')\n",
    "plt.xlabel('Diabetes (1- Yes / 2- No)')\n",
    "plt.ylabel('Patient Quantity')\n",
    "plt.xticks(rotation=0)"
   ]
  },
  {
   "cell_type": "markdown",
   "metadata": {},
   "source": [
    "<b>Plot comments:</b>\n",
    "\n",
    "-As we can see at above graph, the attendance percentage isn't to different between diabetes. However, people how has diabetes show up more for their scheduled appointment."
   ]
  },
  {
   "cell_type": "code",
   "execution_count": 231,
   "metadata": {
    "ExecuteTime": {
     "end_time": "2018-10-20T23:52:29.072782Z",
     "start_time": "2018-10-20T23:52:29.045244Z"
    }
   },
   "outputs": [
    {
     "name": "stdout",
     "output_type": "stream",
     "text": [
      "\u001b[1mAttendance Percentage:\n",
      "\u001b[0m0: 79.64%\n",
      "\u001b[0m1: 82.00%\n"
     ]
    }
   ],
   "source": [
    "print('\\033[1m' + \"Attendance Percentage:\")\n",
    "for var in df_clean.Diabetes.unique():\n",
    "    print('\\033[0m' + \"{}: {:.2%}\".format(var,len(v_show[v_show.Diabetes==var]) / (len(v_show[v_show.Diabetes==var])+len(v_no_show[v_no_show.Diabetes==var]))))\n"
   ]
  },
  {
   "cell_type": "markdown",
   "metadata": {},
   "source": [
    "### Is a alcoholism a strong variable to impact appointment attendance?"
   ]
  },
  {
   "cell_type": "code",
   "execution_count": 232,
   "metadata": {
    "ExecuteTime": {
     "end_time": "2018-10-20T23:52:29.282840Z",
     "start_time": "2018-10-20T23:52:29.076237Z"
    }
   },
   "outputs": [
    {
     "data": {
      "text/plain": [
       "(array([0, 1]), <a list of 2 Text xticklabel objects>)"
      ]
     },
     "execution_count": 232,
     "metadata": {},
     "output_type": "execute_result"
    },
    {
     "data": {
      "image/png": "[encoded data removed]",
      "text/plain": [
       "<Figure size 432x288 with 1 Axes>"
      ]
     },
     "metadata": {},
     "output_type": "display_data"
    }
   ],
   "source": [
    "df_clean.Alcoholism[show].value_counts().plot(kind='bar', alpha=0.5, color='blue', label='attendance')\n",
    "df_clean.Alcoholism[no_show].value_counts().plot(kind='bar', alpha=0.5, color='red', label='non-attendance')\n",
    "plt.legend()\n",
    "plt.title('Alcoholism Appointment Attendance')\n",
    "plt.xlabel('Alcoholism (1- Yes / 2- No)')\n",
    "plt.ylabel('Patient Quantity')\n",
    "plt.xticks(rotation=0)"
   ]
  },
  {
   "cell_type": "markdown",
   "metadata": {},
   "source": [
    "<b>Plot comments:</b>\n",
    "\n",
    "-As we can see at above graph, the attendance percentage isn't to different between alcoholism. However, people how has alcoholism show up more for their scheduled appointment."
   ]
  },
  {
   "cell_type": "code",
   "execution_count": 233,
   "metadata": {
    "ExecuteTime": {
     "end_time": "2018-10-20T23:52:29.314078Z",
     "start_time": "2018-10-20T23:52:29.286325Z"
    }
   },
   "outputs": [
    {
     "name": "stdout",
     "output_type": "stream",
     "text": [
      "\u001b[1mAttendance Percentage:\n",
      "\u001b[0m0: 79.81%\n",
      "\u001b[0m1: 79.85%\n"
     ]
    }
   ],
   "source": [
    "print('\\033[1m' + \"Attendance Percentage:\")\n",
    "for var in df_clean.Alcoholism.unique():\n",
    "    print('\\033[0m' + \"{}: {:.2%}\".format(var,len(v_show[v_show.Alcoholism==var]) / (len(v_show[v_show.Alcoholism==var])+len(v_no_show[v_no_show.Alcoholism==var]))))\n"
   ]
  },
  {
   "cell_type": "markdown",
   "metadata": {},
   "source": [
    "### Is a sms_received a strong variable to impact appointment attendance?"
   ]
  },
  {
   "cell_type": "code",
   "execution_count": 234,
   "metadata": {
    "ExecuteTime": {
     "end_time": "2018-10-20T23:52:29.512666Z",
     "start_time": "2018-10-20T23:52:29.318465Z"
    }
   },
   "outputs": [
    {
     "data": {
      "text/plain": [
       "(array([0, 1]), <a list of 2 Text xticklabel objects>)"
      ]
     },
     "execution_count": 234,
     "metadata": {},
     "output_type": "execute_result"
    },
    {
     "data": {
      "image/png": "[encoded data removed]",
      "text/plain": [
       "<Figure size 432x288 with 1 Axes>"
      ]
     },
     "metadata": {},
     "output_type": "display_data"
    }
   ],
   "source": [
    "df_clean.SMS_received[show].value_counts().plot(kind='bar', alpha=0.5, color='blue', label='attendance')\n",
    "df_clean.SMS_received[no_show].value_counts().plot(kind='bar', alpha=0.5, color='red', label='non-attendance')\n",
    "plt.legend()\n",
    "plt.title('Received SMS Appointment Attendance')\n",
    "plt.xlabel('Received SMS (1- Yes / 2- No)')\n",
    "plt.ylabel('Patient Quantity')\n",
    "plt.xticks(rotation=0)"
   ]
  },
  {
   "cell_type": "markdown",
   "metadata": {},
   "source": [
    "<b>Plot comments:</b>\n",
    "\n",
    "-As we can see at above graph, the attendance percentage isn't to different between received a SMS. However, people how hasn't received a SMS show up more for their scheduled appointment."
   ]
  },
  {
   "cell_type": "code",
   "execution_count": 235,
   "metadata": {
    "ExecuteTime": {
     "end_time": "2018-10-20T23:52:29.544117Z",
     "start_time": "2018-10-20T23:52:29.515714Z"
    }
   },
   "outputs": [
    {
     "name": "stdout",
     "output_type": "stream",
     "text": [
      "\u001b[1mAttendance Percentage:\n",
      "\u001b[0m0: 83.30%\n",
      "\u001b[0m1: 72.43%\n"
     ]
    }
   ],
   "source": [
    "print('\\033[1m' + \"Attendance Percentage:\")\n",
    "for var in df_clean.SMS_received.unique():\n",
    "    print('\\033[0m' + \"{}: {:.2%}\".format(var,len(v_show[v_show.SMS_received==var]) / (len(v_show[v_show.SMS_received==var])+len(v_no_show[v_no_show.SMS_received==var]))))\n"
   ]
  },
  {
   "cell_type": "markdown",
   "metadata": {},
   "source": [
    "<a id='conclusions'></a>\n",
    "## Conclusions\n",
    "\n",
    "<b>Through Data Wrangling procedure, the following analyzes were carried out:</b>\n",
    "- analyzed the data information to verify if there were null and non-formatted values:\n",
    "    - columns that refer to dates had their data type changed.\n",
    "- checked the structure of the data in the first lines;\n",
    "- checked unique data possibilities for each column;\n",
    "- used descriptive statistics to find issues on rows:\n",
    "    - patient of age -1 was excluded.\n",
    "- other procedures:\n",
    "    - created parts of the day schedule classification;\n",
    "    - created age group;\n",
    "    - selected columns to analyze;\n",
    "    - created mask for ease analysis of people who attend the scheduled appointment;\n",
    "    - verified the frequency of variables:\n",
    "        - there are fewer people starting at age 70;\n",
    "        - people with alcoholism, diabetes, hypertension, receiving sms and scholarship have lower predominance;\n",
    "        - there are more people that show up for their scheduled appointment.\n",
    "    - verified the correlation of variables:\n",
    "        - there is a reasonable correlation between age-hypertension, diabetes-hypertension and diabetes-age.\n",
    "    - regression analysis:\n",
    "        - available variables do not explain attendance in scheduled appointment.\n",
    "\n",
    "<b>Through Exploratory Data Analysis procedure:</b>\n",
    "- people more show up for their scheduled appointment in the morning;\n",
    "- people in the senior adult group, over 50 years of age, more show up for their scheduled appointment;\n",
    "- people without scholarship more show up for their scheduled appointment;\n",
    "- male gender more show up for their scheduled appointment;\n",
    "- people with hypertension more show up for their scheduled appointment;\n",
    "- people with diabetes more show up for their scheduled appointment;\n",
    "- people with alcoholism more show up for their scheduled appointment;\n",
    "- people who did not receive sms more show up for their scheduled appointment."
   ]
  }
 ],
 "metadata": {
  "celltoolbar": "Edit Metadata",
  "kernelspec": {
   "display_name": "Python 3",
   "language": "python",
   "name": "python3"
  },
  "language_info": {
   "codemirror_mode": {
    "name": "ipython",
    "version": 3
   },
   "file_extension": ".py",
   "mimetype": "text/x-python",
   "name": "python",
   "nbconvert_exporter": "python",
   "pygments_lexer": "ipython3",
   "version": "3.6.5"
  }
 },
 "nbformat": 4,
 "nbformat_minor": 2
}
